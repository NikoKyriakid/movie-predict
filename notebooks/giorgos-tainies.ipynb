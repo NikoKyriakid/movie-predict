{
 "cells": [
  {
   "cell_type": "code",
   "execution_count": 1,
   "metadata": {
    "execution": {
     "iopub.execute_input": "2022-03-02T19:36:59.584792Z",
     "iopub.status.busy": "2022-03-02T19:36:59.584189Z",
     "iopub.status.idle": "2022-03-02T19:36:59.602104Z",
     "shell.execute_reply": "2022-03-02T19:36:59.601020Z",
     "shell.execute_reply.started": "2022-03-02T19:36:59.584709Z"
    }
   },
   "outputs": [],
   "source": [
    "%matplotlib inline\n",
    "import matplotlib.pyplot as plt\n",
    "import seaborn as sns\n",
    "import pandas as pd\n",
    "import numpy as np\n",
    "import ast \n",
    "from scipy import stats\n",
    "from ast import literal_eval\n",
    "from sklearn.feature_extraction.text import TfidfVectorizer, CountVectorizer\n",
    "from sklearn.metrics.pairwise import linear_kernel, cosine_similarity\n",
    "from nltk.stem.snowball import SnowballStemmer\n",
    "from nltk.stem.wordnet import WordNetLemmatizer\n",
    "from nltk.corpus import wordnet\n",
    "from surprise import Reader, Dataset, SVD\n",
    "from surprise.model_selection import cross_validate\n",
    "\n",
    "import warnings; warnings.simplefilter('ignore')"
   ]
  },
  {
   "cell_type": "code",
   "execution_count": 55,
   "metadata": {
    "execution": {
     "iopub.execute_input": "2022-03-02T19:36:59.605611Z",
     "iopub.status.busy": "2022-03-02T19:36:59.604906Z",
     "iopub.status.idle": "2022-03-02T19:37:03.008847Z",
     "shell.execute_reply": "2022-03-02T19:37:03.008063Z",
     "shell.execute_reply.started": "2022-03-02T19:36:59.605544Z"
    }
   },
   "outputs": [],
   "source": [
    "credits = pd.read_csv(r'../input/movies/credits.csv')\n",
    "keywords = pd.read_csv(r'../input/movies/keywords.csv')\n",
    "links_small = pd.read_csv(r'../input/movies/links_small.csv')\n",
    "md = pd.read_csv(r'../input/movies/movies_metadata.csv')\n",
    "ratings = pd.read_csv(r'../input/movies/ratings_small.csv')"
   ]
  },
  {
   "cell_type": "markdown",
   "metadata": {},
   "source": [
    "# Metadata dataframe"
   ]
  },
  {
   "cell_type": "markdown",
   "metadata": {},
   "source": [
    "## Ratings dataframe"
   ]
  },
  {
   "cell_type": "code",
   "execution_count": 56,
   "metadata": {
    "execution": {
     "iopub.execute_input": "2022-03-02T19:37:03.010528Z",
     "iopub.status.busy": "2022-03-02T19:37:03.010160Z",
     "iopub.status.idle": "2022-03-02T19:37:04.592408Z",
     "shell.execute_reply": "2022-03-02T19:37:04.591703Z",
     "shell.execute_reply.started": "2022-03-02T19:37:03.010495Z"
    }
   },
   "outputs": [],
   "source": [
    "md['genres'] = md['genres'].fillna('[]').apply(literal_eval).apply(lambda x: [i['name'] for i in x] if isinstance(x, list) else [])"
   ]
  },
  {
   "cell_type": "code",
   "execution_count": 57,
   "metadata": {
    "execution": {
     "iopub.execute_input": "2022-03-02T19:37:04.593932Z",
     "iopub.status.busy": "2022-03-02T19:37:04.593563Z",
     "iopub.status.idle": "2022-03-02T19:37:05.003221Z",
     "shell.execute_reply": "2022-03-02T19:37:05.002262Z",
     "shell.execute_reply.started": "2022-03-02T19:37:04.593901Z"
    }
   },
   "outputs": [],
   "source": [
    "md['year'] = pd.to_datetime(md['release_date'], errors='coerce').apply(\n",
    "    lambda x: str(x).split('-')[0] if x != np.nan else np.nan)"
   ]
  },
  {
   "cell_type": "code",
   "execution_count": 58,
   "metadata": {
    "execution": {
     "iopub.execute_input": "2022-03-02T19:37:05.006488Z",
     "iopub.status.busy": "2022-03-02T19:37:05.006040Z",
     "iopub.status.idle": "2022-03-02T19:37:05.100794Z",
     "shell.execute_reply": "2022-03-02T19:37:05.099973Z",
     "shell.execute_reply.started": "2022-03-02T19:37:05.006433Z"
    }
   },
   "outputs": [],
   "source": [
    "# V\n",
    "vote_counts = md[md['vote_count'].notnull()]['vote_count'].astype('int')\n",
    "# R\n",
    "vote_averages = md[md['vote_average'].notnull()]['vote_average'].astype('int')\n",
    "\n",
    "C = vote_averages.mean()\n",
    "m = vote_counts.quantile(0.95)\n",
    "\n"
   ]
  },
  {
   "cell_type": "code",
   "execution_count": 59,
   "metadata": {
    "execution": {
     "iopub.execute_input": "2022-03-02T19:37:05.102243Z",
     "iopub.status.busy": "2022-03-02T19:37:05.102013Z",
     "iopub.status.idle": "2022-03-02T19:37:05.121525Z",
     "shell.execute_reply": "2022-03-02T19:37:05.120552Z",
     "shell.execute_reply.started": "2022-03-02T19:37:05.102215Z"
    }
   },
   "outputs": [],
   "source": [
    "qualified = md[(md['vote_count'] >= m) & \n",
    "               (md['vote_count'].notnull()) & \n",
    "               (md['vote_average'].notnull())][['title', \n",
    "                                                'year', \n",
    "                                                'vote_count', \n",
    "                                                'vote_average', \n",
    "                                                'popularity', \n",
    "                                                'genres']]\n",
    "\n",
    "qualified['vote_count'] = qualified['vote_count'].astype('int')\n",
    "qualified['vote_average'] = qualified['vote_average'].astype('int')\n",
    "qualified.shape"
   ]
  },
  {
   "cell_type": "code",
   "execution_count": 60,
   "metadata": {
    "execution": {
     "iopub.execute_input": "2022-03-02T19:37:05.123554Z",
     "iopub.status.busy": "2022-03-02T19:37:05.123218Z",
     "iopub.status.idle": "2022-03-02T19:37:05.129725Z",
     "shell.execute_reply": "2022-03-02T19:37:05.128622Z",
     "shell.execute_reply.started": "2022-03-02T19:37:05.123511Z"
    }
   },
   "outputs": [],
   "source": [
    "def weighted_rating(x):\n",
    "    v = x['vote_count']\n",
    "    R = x['vote_average']\n",
    "    return (v/(v+m) * R) + (m/(m+v) * C)"
   ]
  },
  {
   "cell_type": "code",
   "execution_count": 61,
   "metadata": {
    "execution": {
     "iopub.execute_input": "2022-03-02T19:37:05.132132Z",
     "iopub.status.busy": "2022-03-02T19:37:05.131317Z",
     "iopub.status.idle": "2022-03-02T19:37:05.204205Z",
     "shell.execute_reply": "2022-03-02T19:37:05.203214Z",
     "shell.execute_reply.started": "2022-03-02T19:37:05.132079Z"
    }
   },
   "outputs": [],
   "source": [
    "qualified['wr'] = qualified.apply(weighted_rating, axis=1)\n",
    "qualified = qualified.sort_values('wr', ascending=False).head(250)"
   ]
  },
  {
   "cell_type": "markdown",
   "metadata": {},
   "source": [
    "## Top movies"
   ]
  },
  {
   "cell_type": "code",
   "execution_count": 62,
   "metadata": {
    "execution": {
     "iopub.execute_input": "2022-03-02T19:37:05.206194Z",
     "iopub.status.busy": "2022-03-02T19:37:05.205758Z",
     "iopub.status.idle": "2022-03-02T19:37:22.651112Z",
     "shell.execute_reply": "2022-03-02T19:37:22.650141Z",
     "shell.execute_reply.started": "2022-03-02T19:37:05.206144Z"
    }
   },
   "outputs": [],
   "source": [
    "'''\n",
    ">>> s\n",
    "     a   b\n",
    "one  1.  2.\n",
    "two  3.  4.\n",
    "\n",
    ">>> s.stack()\n",
    "one a    1\n",
    "    b    2\n",
    "two a    3\n",
    "    b    4\n",
    "'''\n",
    "s = md.apply(lambda x: pd.Series(x['genres']),axis=1).stack().reset_index(level=1, drop=True)\n",
    "s.name = 'genre'\n",
    "gen_md = md.drop('genres', axis=1).join(s)\n",
    "gen_md.head(3).transpose()\n",
    "# gen_md"
   ]
  },
  {
   "cell_type": "code",
   "execution_count": 63,
   "metadata": {
    "execution": {
     "iopub.execute_input": "2022-03-02T19:37:22.652885Z",
     "iopub.status.busy": "2022-03-02T19:37:22.652573Z",
     "iopub.status.idle": "2022-03-02T19:37:22.665679Z",
     "shell.execute_reply": "2022-03-02T19:37:22.664546Z",
     "shell.execute_reply.started": "2022-03-02T19:37:22.652841Z"
    }
   },
   "outputs": [],
   "source": [
    "def build_chart(genre, percentile=0.85):\n",
    "    df = gen_md[gen_md['genre'] == genre]\n",
    "    vote_counts = df[df['vote_count'].notnull()]['vote_count'].astype('int')\n",
    "    vote_averages = df[df['vote_average'].notnull()]['vote_average'].astype('int')\n",
    "    C = vote_averages.mean()\n",
    "    m = vote_counts.quantile(percentile)\n",
    "    \n",
    "    qualified = df[(df['vote_count'] >= m) & (df['vote_count'].notnull()) & \n",
    "                   (df['vote_average'].notnull())][['title', 'year', 'vote_count', 'vote_average', 'popularity']]\n",
    "    qualified['vote_count'] = qualified['vote_count'].astype('int')\n",
    "    qualified['vote_average'] = qualified['vote_average'].astype('int')\n",
    "    \n",
    "    qualified['wr'] = qualified.apply(lambda x: \n",
    "                        (x['vote_count']/(x['vote_count']+m) * x['vote_average']) + (m/(m+x['vote_count']) * C),\n",
    "                        axis=1)\n",
    "    qualified = qualified.sort_values('wr', ascending=False).head(250)\n",
    "    \n",
    "    return qualified"
   ]
  },
  {
   "cell_type": "markdown",
   "metadata": {},
   "source": [
    "## Top 15 romantic movies"
   ]
  },
  {
   "cell_type": "code",
   "execution_count": 64,
   "metadata": {
    "execution": {
     "iopub.execute_input": "2022-03-02T19:37:22.667735Z",
     "iopub.status.busy": "2022-03-02T19:37:22.667444Z",
     "iopub.status.idle": "2022-03-02T19:37:22.684721Z",
     "shell.execute_reply": "2022-03-02T19:37:22.684048Z",
     "shell.execute_reply.started": "2022-03-02T19:37:22.667704Z"
    }
   },
   "outputs": [],
   "source": [
    "# build_chart('Romance').head(15)"
   ]
  },
  {
   "cell_type": "markdown",
   "metadata": {},
   "source": [
    "## Content based recommendation system"
   ]
  },
  {
   "cell_type": "code",
   "execution_count": 100,
   "metadata": {},
   "outputs": [],
   "source": [
    "links_small = links_small[links_small['tmdbId'].notnull()]['tmdbId'].astype('int')"
   ]
  },
  {
   "cell_type": "code",
   "execution_count": 66,
   "metadata": {
    "execution": {
     "iopub.execute_input": "2022-03-02T19:37:22.701587Z",
     "iopub.status.busy": "2022-03-02T19:37:22.701255Z",
     "iopub.status.idle": "2022-03-02T19:37:22.711300Z",
     "shell.execute_reply": "2022-03-02T19:37:22.710364Z",
     "shell.execute_reply.started": "2022-03-02T19:37:22.701558Z"
    }
   },
   "outputs": [],
   "source": [
    "def convert_int(x):\n",
    "    try:\n",
    "        return int(x)\n",
    "    except:\n",
    "        return np.nan"
   ]
  },
  {
   "cell_type": "code",
   "execution_count": 104,
   "metadata": {
    "execution": {
     "iopub.execute_input": "2022-03-02T19:39:52.407317Z",
     "iopub.status.busy": "2022-03-02T19:39:52.406980Z",
     "iopub.status.idle": "2022-03-02T19:39:52.466390Z",
     "shell.execute_reply": "2022-03-02T19:39:52.465254Z",
     "shell.execute_reply.started": "2022-03-02T19:39:52.407284Z"
    }
   },
   "outputs": [],
   "source": [
    "md['id'] = md['id'].apply(convert_int)\n",
    "md[md['id'].isnull()]"
   ]
  },
  {
   "cell_type": "code",
   "execution_count": 106,
   "metadata": {
    "execution": {
     "iopub.execute_input": "2022-03-02T19:40:02.800762Z",
     "iopub.status.busy": "2022-03-02T19:40:02.800407Z",
     "iopub.status.idle": "2022-03-02T19:40:02.846264Z",
     "shell.execute_reply": "2022-03-02T19:40:02.845327Z",
     "shell.execute_reply.started": "2022-03-02T19:40:02.800724Z"
    }
   },
   "outputs": [],
   "source": [
    "md = md.drop([19730, 29503, 35587])"
   ]
  },
  {
   "cell_type": "code",
   "execution_count": 69,
   "metadata": {
    "execution": {
     "iopub.execute_input": "2022-03-02T19:37:22.844016Z",
     "iopub.status.busy": "2022-03-02T19:37:22.843091Z",
     "iopub.status.idle": "2022-03-02T19:37:22.850996Z",
     "shell.execute_reply": "2022-03-02T19:37:22.850112Z",
     "shell.execute_reply.started": "2022-03-02T19:37:22.843948Z"
    }
   },
   "outputs": [],
   "source": [
    "md['id'] = md['id'].astype('int')"
   ]
  },
  {
   "cell_type": "code",
   "execution_count": 70,
   "metadata": {
    "execution": {
     "iopub.execute_input": "2022-03-02T19:37:22.853225Z",
     "iopub.status.busy": "2022-03-02T19:37:22.852437Z",
     "iopub.status.idle": "2022-03-02T19:37:22.873902Z",
     "shell.execute_reply": "2022-03-02T19:37:22.872973Z",
     "shell.execute_reply.started": "2022-03-02T19:37:22.853176Z"
    }
   },
   "outputs": [],
   "source": [
    "smd = md[md['id'].isin(links_small)]\n",
    "smd.shape"
   ]
  },
  {
   "cell_type": "markdown",
   "metadata": {},
   "source": [
    "## Using movie description and taglines"
   ]
  },
  {
   "cell_type": "code",
   "execution_count": 71,
   "metadata": {
    "execution": {
     "iopub.execute_input": "2022-03-02T19:37:22.876114Z",
     "iopub.status.busy": "2022-03-02T19:37:22.875502Z",
     "iopub.status.idle": "2022-03-02T19:37:22.897198Z",
     "shell.execute_reply": "2022-03-02T19:37:22.896224Z",
     "shell.execute_reply.started": "2022-03-02T19:37:22.876051Z"
    }
   },
   "outputs": [],
   "source": [
    "smd['tagline'] = smd['tagline'].fillna('')\n",
    "smd['description'] = smd['overview'] + smd['tagline']\n",
    "smd['description'] = smd['description'].fillna('')"
   ]
  },
  {
   "cell_type": "code",
   "execution_count": 72,
   "metadata": {
    "execution": {
     "iopub.execute_input": "2022-03-02T19:37:22.899236Z",
     "iopub.status.busy": "2022-03-02T19:37:22.898771Z",
     "iopub.status.idle": "2022-03-02T19:37:25.852333Z",
     "shell.execute_reply": "2022-03-02T19:37:25.851550Z",
     "shell.execute_reply.started": "2022-03-02T19:37:22.899200Z"
    }
   },
   "outputs": [],
   "source": [
    "tf = TfidfVectorizer(analyzer='word',ngram_range=(1, 2),min_df=0, stop_words='english')\n",
    "tfidf_matrix = tf.fit_transform(smd['description'])"
   ]
  },
  {
   "cell_type": "code",
   "execution_count": 73,
   "metadata": {
    "execution": {
     "iopub.execute_input": "2022-03-02T19:37:25.854295Z",
     "iopub.status.busy": "2022-03-02T19:37:25.853817Z",
     "iopub.status.idle": "2022-03-02T19:37:25.860294Z",
     "shell.execute_reply": "2022-03-02T19:37:25.859404Z",
     "shell.execute_reply.started": "2022-03-02T19:37:25.854259Z"
    }
   },
   "outputs": [],
   "source": [
    "tfidf_matrix.shape"
   ]
  },
  {
   "cell_type": "code",
   "execution_count": 74,
   "metadata": {
    "execution": {
     "iopub.execute_input": "2022-03-02T19:37:25.861903Z",
     "iopub.status.busy": "2022-03-02T19:37:25.861667Z",
     "iopub.status.idle": "2022-03-02T19:37:28.379128Z",
     "shell.execute_reply": "2022-03-02T19:37:28.378290Z",
     "shell.execute_reply.started": "2022-03-02T19:37:25.861868Z"
    }
   },
   "outputs": [],
   "source": [
    "cosine_sim = linear_kernel(tfidf_matrix, tfidf_matrix)"
   ]
  },
  {
   "cell_type": "code",
   "execution_count": 75,
   "metadata": {
    "execution": {
     "iopub.execute_input": "2022-03-02T19:37:28.381070Z",
     "iopub.status.busy": "2022-03-02T19:37:28.380372Z",
     "iopub.status.idle": "2022-03-02T19:37:28.386577Z",
     "shell.execute_reply": "2022-03-02T19:37:28.385698Z",
     "shell.execute_reply.started": "2022-03-02T19:37:28.381035Z"
    }
   },
   "outputs": [],
   "source": [
    "cosine_sim[0]"
   ]
  },
  {
   "cell_type": "code",
   "execution_count": 76,
   "metadata": {
    "execution": {
     "iopub.execute_input": "2022-03-02T19:37:28.388382Z",
     "iopub.status.busy": "2022-03-02T19:37:28.388079Z",
     "iopub.status.idle": "2022-03-02T19:37:28.403202Z",
     "shell.execute_reply": "2022-03-02T19:37:28.402279Z",
     "shell.execute_reply.started": "2022-03-02T19:37:28.388347Z"
    }
   },
   "outputs": [],
   "source": [
    "cosine_sim.shape"
   ]
  },
  {
   "cell_type": "code",
   "execution_count": 77,
   "metadata": {
    "execution": {
     "iopub.execute_input": "2022-03-02T19:37:28.405411Z",
     "iopub.status.busy": "2022-03-02T19:37:28.404721Z",
     "iopub.status.idle": "2022-03-02T19:37:28.556403Z",
     "shell.execute_reply": "2022-03-02T19:37:28.555526Z",
     "shell.execute_reply.started": "2022-03-02T19:37:28.405355Z"
    }
   },
   "outputs": [],
   "source": [
    "smd = smd.reset_index()\n",
    "titles = smd['title']\n",
    "indices = pd.Series(smd.index, index=smd['title'])"
   ]
  },
  {
   "cell_type": "code",
   "execution_count": 78,
   "metadata": {
    "execution": {
     "iopub.execute_input": "2022-03-02T19:37:28.559125Z",
     "iopub.status.busy": "2022-03-02T19:37:28.558420Z",
     "iopub.status.idle": "2022-03-02T19:37:28.569181Z",
     "shell.execute_reply": "2022-03-02T19:37:28.567408Z",
     "shell.execute_reply.started": "2022-03-02T19:37:28.559071Z"
    }
   },
   "outputs": [],
   "source": [
    "indices.head(2)"
   ]
  },
  {
   "cell_type": "code",
   "execution_count": 79,
   "metadata": {
    "execution": {
     "iopub.execute_input": "2022-03-02T19:37:28.571359Z",
     "iopub.status.busy": "2022-03-02T19:37:28.570807Z",
     "iopub.status.idle": "2022-03-02T19:37:28.581854Z",
     "shell.execute_reply": "2022-03-02T19:37:28.581097Z",
     "shell.execute_reply.started": "2022-03-02T19:37:28.571317Z"
    }
   },
   "outputs": [],
   "source": [
    "def get_recommendations(title):\n",
    "    idx = indices[title]\n",
    "    sim_scores = list(enumerate(cosine_sim[idx]))\n",
    "    sim_scores = sorted(sim_scores, key=lambda x: x[1], reverse=True)\n",
    "    sim_scores = sim_scores[1:31]\n",
    "    movie_indices = [i[0] for i in sim_scores]\n",
    "    return titles.iloc[movie_indices]"
   ]
  },
  {
   "cell_type": "code",
   "execution_count": 80,
   "metadata": {
    "execution": {
     "iopub.execute_input": "2022-03-02T19:37:28.584444Z",
     "iopub.status.busy": "2022-03-02T19:37:28.583442Z",
     "iopub.status.idle": "2022-03-02T19:37:28.621522Z",
     "shell.execute_reply": "2022-03-02T19:37:28.620641Z",
     "shell.execute_reply.started": "2022-03-02T19:37:28.584376Z"
    }
   },
   "outputs": [],
   "source": [
    "get_recommendations('The Godfather').head(10)"
   ]
  },
  {
   "cell_type": "code",
   "execution_count": 81,
   "metadata": {
    "execution": {
     "iopub.execute_input": "2022-03-02T19:37:28.624148Z",
     "iopub.status.busy": "2022-03-02T19:37:28.623177Z",
     "iopub.status.idle": "2022-03-02T19:37:28.647717Z",
     "shell.execute_reply": "2022-03-02T19:37:28.646630Z",
     "shell.execute_reply.started": "2022-03-02T19:37:28.624098Z"
    }
   },
   "outputs": [],
   "source": [
    "get_recommendations('The Dark Knight').head(10)"
   ]
  },
  {
   "cell_type": "markdown",
   "metadata": {},
   "source": [
    "## Using movie description, taglines, keywords, cast, director and genres"
   ]
  },
  {
   "cell_type": "code",
   "execution_count": 82,
   "metadata": {
    "execution": {
     "iopub.execute_input": "2022-03-02T19:37:28.650600Z",
     "iopub.status.busy": "2022-03-02T19:37:28.649610Z",
     "iopub.status.idle": "2022-03-02T19:37:28.667766Z",
     "shell.execute_reply": "2022-03-02T19:37:28.666353Z",
     "shell.execute_reply.started": "2022-03-02T19:37:28.650516Z"
    }
   },
   "outputs": [],
   "source": [
    "keywords['id'] = keywords['id'].astype('int')\n",
    "credits['id'] = credits['id'].astype('int')\n",
    "md['id'] = md['id'].astype('int')"
   ]
  },
  {
   "cell_type": "code",
   "execution_count": 83,
   "metadata": {
    "execution": {
     "iopub.execute_input": "2022-03-02T19:37:28.670326Z",
     "iopub.status.busy": "2022-03-02T19:37:28.669441Z",
     "iopub.status.idle": "2022-03-02T19:37:28.679436Z",
     "shell.execute_reply": "2022-03-02T19:37:28.678359Z",
     "shell.execute_reply.started": "2022-03-02T19:37:28.670287Z"
    }
   },
   "outputs": [],
   "source": [
    "md.shape"
   ]
  },
  {
   "cell_type": "code",
   "execution_count": 84,
   "metadata": {
    "execution": {
     "iopub.execute_input": "2022-03-02T19:37:28.681255Z",
     "iopub.status.busy": "2022-03-02T19:37:28.680786Z",
     "iopub.status.idle": "2022-03-02T19:37:28.903685Z",
     "shell.execute_reply": "2022-03-02T19:37:28.903037Z",
     "shell.execute_reply.started": "2022-03-02T19:37:28.681196Z"
    }
   },
   "outputs": [],
   "source": [
    "md = md.merge(credits, on='id')\n",
    "md = md.merge(keywords, on='id')"
   ]
  },
  {
   "cell_type": "code",
   "execution_count": 85,
   "metadata": {
    "execution": {
     "iopub.execute_input": "2022-03-02T19:37:28.905512Z",
     "iopub.status.busy": "2022-03-02T19:37:28.904870Z",
     "iopub.status.idle": "2022-03-02T19:37:28.973566Z",
     "shell.execute_reply": "2022-03-02T19:37:28.972700Z",
     "shell.execute_reply.started": "2022-03-02T19:37:28.905475Z"
    }
   },
   "outputs": [],
   "source": [
    "smd = md[md['id'].isin(links_small)]\n",
    "smd.shape"
   ]
  },
  {
   "cell_type": "code",
   "execution_count": 86,
   "metadata": {
    "execution": {
     "iopub.execute_input": "2022-03-02T19:37:28.975844Z",
     "iopub.status.busy": "2022-03-02T19:37:28.974975Z",
     "iopub.status.idle": "2022-03-02T19:37:43.516195Z",
     "shell.execute_reply": "2022-03-02T19:37:43.515060Z",
     "shell.execute_reply.started": "2022-03-02T19:37:28.975793Z"
    }
   },
   "outputs": [],
   "source": [
    "smd['cast'] = smd['cast'].apply(literal_eval)\n",
    "smd['crew'] = smd['crew'].apply(literal_eval)\n",
    "smd['keywords'] = smd['keywords'].apply(literal_eval)\n",
    "smd['cast_size'] = smd['cast'].apply(lambda x: len(x))\n",
    "smd['crew_size'] = smd['crew'].apply(lambda x: len(x))"
   ]
  },
  {
   "cell_type": "code",
   "execution_count": 87,
   "metadata": {
    "execution": {
     "iopub.execute_input": "2022-03-02T19:37:43.518093Z",
     "iopub.status.busy": "2022-03-02T19:37:43.517791Z",
     "iopub.status.idle": "2022-03-02T19:37:43.524876Z",
     "shell.execute_reply": "2022-03-02T19:37:43.523353Z",
     "shell.execute_reply.started": "2022-03-02T19:37:43.518048Z"
    }
   },
   "outputs": [],
   "source": [
    "def get_director(x):\n",
    "    for i in x:\n",
    "        if i['job'] == 'Director':\n",
    "            return i['name']\n",
    "    return np.nan"
   ]
  },
  {
   "cell_type": "code",
   "execution_count": 88,
   "metadata": {
    "execution": {
     "iopub.execute_input": "2022-03-02T19:37:43.528136Z",
     "iopub.status.busy": "2022-03-02T19:37:43.527463Z",
     "iopub.status.idle": "2022-03-02T19:37:43.855230Z",
     "shell.execute_reply": "2022-03-02T19:37:43.853791Z",
     "shell.execute_reply.started": "2022-03-02T19:37:43.528054Z"
    }
   },
   "outputs": [],
   "source": [
    "smd['director'] = smd['crew'].apply(get_director)\n",
    "smd['cast'] = smd['cast'].apply(lambda x: [i['name'] for i in x] if isinstance(x, list) else [])\n",
    "smd['cast'] = smd['cast'].apply(lambda x: x[:3] if len(x) >=3 else x)\n",
    "smd['keywords'] = smd['keywords'].apply(lambda x: [i['name'] for i in x] if isinstance(x, list) else [])"
   ]
  },
  {
   "cell_type": "code",
   "execution_count": 89,
   "metadata": {
    "execution": {
     "iopub.execute_input": "2022-03-02T19:37:43.857596Z",
     "iopub.status.busy": "2022-03-02T19:37:43.857025Z",
     "iopub.status.idle": "2022-03-02T19:37:44.124555Z",
     "shell.execute_reply": "2022-03-02T19:37:44.123473Z",
     "shell.execute_reply.started": "2022-03-02T19:37:43.857558Z"
    }
   },
   "outputs": [],
   "source": [
    "smd['cast'] = smd['cast'].apply(lambda x: [str.lower(i.replace(\" \", \"\")) for i in x])\n",
    "smd['director'] = smd['director'].astype('str').apply(lambda x: str.lower(x.replace(\" \", \"\")))\n",
    "smd['director'] = smd['director'].apply(lambda x: [x,x, x])"
   ]
  },
  {
   "cell_type": "code",
   "execution_count": 90,
   "metadata": {
    "execution": {
     "iopub.execute_input": "2022-03-02T19:37:44.126272Z",
     "iopub.status.busy": "2022-03-02T19:37:44.126012Z",
     "iopub.status.idle": "2022-03-02T19:37:47.717765Z",
     "shell.execute_reply": "2022-03-02T19:37:47.716808Z",
     "shell.execute_reply.started": "2022-03-02T19:37:44.126239Z"
    }
   },
   "outputs": [],
   "source": [
    "s = smd.apply(lambda x: pd.Series(x['keywords']),axis=1).stack().reset_index(level=1, drop=True)\n",
    "s.name = 'keyword'\n",
    "s = s.value_counts()\n",
    "s[:5]"
   ]
  },
  {
   "cell_type": "code",
   "execution_count": 91,
   "metadata": {
    "execution": {
     "iopub.execute_input": "2022-03-02T19:37:47.719592Z",
     "iopub.status.busy": "2022-03-02T19:37:47.719277Z",
     "iopub.status.idle": "2022-03-02T19:37:47.725319Z",
     "shell.execute_reply": "2022-03-02T19:37:47.724426Z",
     "shell.execute_reply.started": "2022-03-02T19:37:47.719550Z"
    }
   },
   "outputs": [],
   "source": [
    "s = s[s > 1]"
   ]
  },
  {
   "cell_type": "code",
   "execution_count": 92,
   "metadata": {
    "execution": {
     "iopub.execute_input": "2022-03-02T19:37:47.727155Z",
     "iopub.status.busy": "2022-03-02T19:37:47.726742Z",
     "iopub.status.idle": "2022-03-02T19:37:47.740436Z",
     "shell.execute_reply": "2022-03-02T19:37:47.739596Z",
     "shell.execute_reply.started": "2022-03-02T19:37:47.727119Z"
    }
   },
   "outputs": [],
   "source": [
    "# example\n",
    "stemmer = SnowballStemmer('english')\n",
    "stemmer.stem('dogs')"
   ]
  },
  {
   "cell_type": "code",
   "execution_count": 93,
   "metadata": {
    "execution": {
     "iopub.execute_input": "2022-03-02T19:37:47.742049Z",
     "iopub.status.busy": "2022-03-02T19:37:47.741661Z",
     "iopub.status.idle": "2022-03-02T19:37:47.753788Z",
     "shell.execute_reply": "2022-03-02T19:37:47.753041Z",
     "shell.execute_reply.started": "2022-03-02T19:37:47.742014Z"
    }
   },
   "outputs": [],
   "source": [
    "def filter_keywords(x):\n",
    "    words = []\n",
    "    for i in x:\n",
    "        if i in s:\n",
    "            words.append(i)\n",
    "    return words"
   ]
  },
  {
   "cell_type": "code",
   "execution_count": 94,
   "metadata": {
    "execution": {
     "iopub.execute_input": "2022-03-02T19:37:47.759822Z",
     "iopub.status.busy": "2022-03-02T19:37:47.759154Z",
     "iopub.status.idle": "2022-03-02T19:37:49.111423Z",
     "shell.execute_reply": "2022-03-02T19:37:49.110685Z",
     "shell.execute_reply.started": "2022-03-02T19:37:47.759787Z"
    }
   },
   "outputs": [],
   "source": [
    "smd['keywords'] = smd['keywords'].apply(filter_keywords)\n",
    "smd['keywords'] = smd['keywords'].apply(lambda x: [stemmer.stem(i) for i in x])\n",
    "smd['keywords'] = smd['keywords'].apply(lambda x: [str.lower(i.replace(\" \", \"\")) for i in x])"
   ]
  },
  {
   "cell_type": "code",
   "execution_count": 95,
   "metadata": {
    "execution": {
     "iopub.execute_input": "2022-03-02T19:37:49.112804Z",
     "iopub.status.busy": "2022-03-02T19:37:49.112576Z",
     "iopub.status.idle": "2022-03-02T19:37:49.186355Z",
     "shell.execute_reply": "2022-03-02T19:37:49.185453Z",
     "shell.execute_reply.started": "2022-03-02T19:37:49.112776Z"
    }
   },
   "outputs": [],
   "source": [
    "smd['soup'] = smd['keywords'] + smd['cast'] + smd['director'] + smd['genres']\n",
    "smd['soup'] = smd['soup'].apply(lambda x: ' '.join(x))"
   ]
  },
  {
   "cell_type": "code",
   "execution_count": 96,
   "metadata": {
    "execution": {
     "iopub.execute_input": "2022-03-02T19:37:49.187872Z",
     "iopub.status.busy": "2022-03-02T19:37:49.187631Z",
     "iopub.status.idle": "2022-03-02T19:37:50.261264Z",
     "shell.execute_reply": "2022-03-02T19:37:50.260268Z",
     "shell.execute_reply.started": "2022-03-02T19:37:49.187841Z"
    }
   },
   "outputs": [],
   "source": [
    "count = CountVectorizer(analyzer='word',ngram_range=(1, 2),min_df=0, stop_words='english')\n",
    "count_matrix = count.fit_transform(smd['soup'])"
   ]
  },
  {
   "cell_type": "code",
   "execution_count": 97,
   "metadata": {
    "execution": {
     "iopub.execute_input": "2022-03-02T19:37:50.263202Z",
     "iopub.status.busy": "2022-03-02T19:37:50.262935Z",
     "iopub.status.idle": "2022-03-02T19:37:52.364358Z",
     "shell.execute_reply": "2022-03-02T19:37:52.363392Z",
     "shell.execute_reply.started": "2022-03-02T19:37:50.263172Z"
    }
   },
   "outputs": [],
   "source": [
    "cosine_sim = cosine_similarity(count_matrix, count_matrix)"
   ]
  },
  {
   "cell_type": "code",
   "execution_count": 98,
   "metadata": {
    "execution": {
     "iopub.execute_input": "2022-03-02T19:37:52.365931Z",
     "iopub.status.busy": "2022-03-02T19:37:52.365584Z",
     "iopub.status.idle": "2022-03-02T19:37:52.393359Z",
     "shell.execute_reply": "2022-03-02T19:37:52.392288Z",
     "shell.execute_reply.started": "2022-03-02T19:37:52.365892Z"
    }
   },
   "outputs": [],
   "source": [
    "smd = smd.reset_index()\n",
    "titles = smd['title']\n",
    "indices = pd.Series(smd.index, index=smd['title'])"
   ]
  },
  {
   "cell_type": "code",
   "execution_count": 99,
   "metadata": {
    "execution": {
     "iopub.execute_input": "2022-03-02T19:37:52.395274Z",
     "iopub.status.busy": "2022-03-02T19:37:52.394817Z",
     "iopub.status.idle": "2022-03-02T19:37:52.407207Z",
     "shell.execute_reply": "2022-03-02T19:37:52.406449Z",
     "shell.execute_reply.started": "2022-03-02T19:37:52.395208Z"
    }
   },
   "outputs": [],
   "source": [
    "def improved_recommendations(title):\n",
    "    idx = indices[title]\n",
    "    sim_scores = list(enumerate(cosine_sim[idx]))\n",
    "    sim_scores = sorted(sim_scores, key=lambda x: x[1], reverse=True)\n",
    "    sim_scores = sim_scores[1:26]\n",
    "    movie_indices = [i[0] for i in sim_scores]\n",
    "    \n",
    "    movies = smd.iloc[movie_indices][['title', 'vote_count', 'vote_average', 'year']]\n",
    "    vote_counts = movies[movies['vote_count'].notnull()]['vote_count'].astype('int')\n",
    "    vote_averages = movies[movies['vote_average'].notnull()]['vote_average'].astype('int')\n",
    "    C = vote_averages.mean()\n",
    "    m = vote_counts.quantile(0.60)\n",
    "    qualified = movies[(movies['vote_count'] >= m) & (movies['vote_count'].notnull()) & \n",
    "                       (movies['vote_average'].notnull())]\n",
    "    qualified['vote_count'] = qualified['vote_count'].astype('int')\n",
    "    qualified['vote_average'] = qualified['vote_average'].astype('int')\n",
    "    qualified['wr'] = qualified.apply(weighted_rating, axis=1)\n",
    "    qualified = qualified.sort_values('wr', ascending=False).head(10)\n",
    "    return qualified"
   ]
  }
 ],
 "metadata": {
  "kernelspec": {
   "display_name": "Python 3 (ipykernel)",
   "language": "python",
   "name": "python3"
  },
  "language_info": {
   "codemirror_mode": {
    "name": "ipython",
    "version": 3
   },
   "file_extension": ".py",
   "mimetype": "text/x-python",
   "name": "python",
   "nbconvert_exporter": "python",
   "pygments_lexer": "ipython3",
   "version": "3.9.7"
  }
 },
 "nbformat": 4,
 "nbformat_minor": 4
}